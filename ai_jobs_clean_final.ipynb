{
 "cells": [
  {
   "cell_type": "markdown",
   "id": "927b650b",
   "metadata": {},
   "source": [
    "# AI Job Market Analysis\n",
    "\n",
    "This notebook explores trends in the global AI job market using visual analytics."
   ]
  },
  {
   "cell_type": "code",
   "execution_count": null,
   "id": "98e65a97",
   "metadata": {},
   "outputs": [],
   "source": [
    "import pandas as pd\n",
    "import numpy as np\n",
    "import matplotlib.pyplot as plt\n",
    "import seaborn as sns\n",
    "import plotly.express as px\n",
    "import plotly.graph_objects as go\n",
    "from wordcloud import WordCloud\n",
    "import warnings\n",
    "warnings.filterwarnings('ignore')"
   ]
  },
  {
   "cell_type": "code",
   "execution_count": null,
   "id": "ca10a3ba",
   "metadata": {},
   "outputs": [],
   "source": [
    "df = pd.read_csv('ai_job_dataset_cleaned.csv')\n",
    "df['posting_date'] = pd.to_datetime(df['posting_date'])\n",
    "df['application_deadline'] = pd.to_datetime(df['application_deadline'])"
   ]
  },
  {
   "cell_type": "code",
   "execution_count": null,
   "id": "bdfeb3df",
   "metadata": {},
   "outputs": [],
   "source": [
    "fig = px.histogram(df, x='job_title', color='experience_level')\n",
    "fig.show()"
   ]
  },
  {
   "cell_type": "code",
   "execution_count": null,
   "id": "f6a8b397",
   "metadata": {},
   "outputs": [],
   "source": [
    "fig = px.bar(df['company_name'].value_counts().nlargest(15))\n",
    "fig.show()"
   ]
  },
  {
   "cell_type": "code",
   "execution_count": null,
   "id": "1ea7a059",
   "metadata": {},
   "outputs": [],
   "source": [
    "top_salary_countries = df.groupby('company_location')['salary_usd'].mean().sort_values(ascending=False).head(10)\n",
    "fig = px.bar(top_salary_countries)\n",
    "fig.show()"
   ]
  },
  {
   "cell_type": "code",
   "execution_count": null,
   "id": "4b105acf",
   "metadata": {},
   "outputs": [],
   "source": [
    "fig = px.histogram(df, x='salary_usd', nbins=50)\n",
    "fig.show()"
   ]
  },
  {
   "cell_type": "code",
   "execution_count": null,
   "id": "0741b696",
   "metadata": {},
   "outputs": [],
   "source": [
    "fig = px.box(df, x='experience_level', y='salary_usd', color='experience_level')\n",
    "fig.show()"
   ]
  },
  {
   "cell_type": "code",
   "execution_count": null,
   "id": "a1d8207e",
   "metadata": {},
   "outputs": [],
   "source": [
    "fig = px.box(df, x='education_required', y='salary_usd', color='education_required')\n",
    "fig.show()"
   ]
  },
  {
   "cell_type": "code",
   "execution_count": null,
   "id": "3c7b7ee8",
   "metadata": {},
   "outputs": [],
   "source": [
    "fig = px.histogram(df, x='job_description_length', nbins=40)\n",
    "fig.show()"
   ]
  },
  {
   "cell_type": "code",
   "execution_count": null,
   "id": "bdcdad87",
   "metadata": {},
   "outputs": [],
   "source": [
    "fig = px.histogram(df, x='remote_ratio')\n",
    "fig.show()"
   ]
  },
  {
   "cell_type": "code",
   "execution_count": null,
   "id": "172d9699",
   "metadata": {},
   "outputs": [],
   "source": [
    "fig = px.pie(df, names='company_size')\n",
    "fig.show()"
   ]
  },
  {
   "cell_type": "code",
   "execution_count": null,
   "id": "77e922e0",
   "metadata": {},
   "outputs": [],
   "source": [
    "fig = px.bar(df['industry'].value_counts().nlargest(10))\n",
    "fig.show()"
   ]
  },
  {
   "cell_type": "code",
   "execution_count": null,
   "id": "3135403c",
   "metadata": {},
   "outputs": [],
   "source": [
    "skills = ','.join(df['required_skills'].dropna().tolist())\n",
    "wordcloud = WordCloud(width=1600, height=800, background_color='white').generate(skills)\n",
    "plt.figure(figsize=(16,8))\n",
    "plt.imshow(wordcloud, interpolation='bilinear')\n",
    "plt.axis('off')\n",
    "plt.show()"
   ]
  },
  {
   "cell_type": "code",
   "execution_count": null,
   "id": "7795ad75",
   "metadata": {},
   "outputs": [],
   "source": [
    "timeline = df['posting_date'].value_counts().sort_index()\n",
    "fig = px.line(x=timeline.index, y=timeline.values)\n",
    "fig.show()"
   ]
  },
  {
   "cell_type": "code",
   "execution_count": null,
   "id": "7da6fe50",
   "metadata": {},
   "outputs": [],
   "source": [
    "fig = px.scatter(df, x='years_experience', y='salary_usd', color='experience_level')\n",
    "fig.show()"
   ]
  },
  {
   "cell_type": "code",
   "execution_count": null,
   "id": "a417b8fd",
   "metadata": {},
   "outputs": [],
   "source": [
    "fig = px.box(df, x='education_required', y='years_experience', color='education_required')\n",
    "fig.show()"
   ]
  },
  {
   "cell_type": "code",
   "execution_count": null,
   "id": "e2a568f0",
   "metadata": {},
   "outputs": [],
   "source": [
    "fig = px.histogram(df, x='application_deadline', nbins=50)\n",
    "fig.show()"
   ]
  },
  {
   "cell_type": "code",
   "execution_count": null,
   "id": "ba97d913",
   "metadata": {},
   "outputs": [],
   "source": [
    "fig = px.histogram(df, x='benefits_score', nbins=20)\n",
    "fig.show()"
   ]
  },
  {
   "cell_type": "code",
   "execution_count": null,
   "id": "0486a20a",
   "metadata": {},
   "outputs": [],
   "source": [
    "pivot = pd.crosstab(df['experience_level'], df['employment_type'])\n",
    "sns.heatmap(pivot, annot=True, cmap='YlGnBu')\n",
    "plt.show()"
   ]
  },
  {
   "cell_type": "code",
   "execution_count": null,
   "id": "24fa0c1c",
   "metadata": {},
   "outputs": [],
   "source": [
    "sns.pairplot(df[['salary_usd', 'years_experience', 'job_description_length', 'benefits_score']])\n",
    "plt.show()"
   ]
  },
  {
   "cell_type": "code",
   "execution_count": null,
   "id": "f2e39d72",
   "metadata": {},
   "outputs": [],
   "source": [
    "fig = px.scatter(df, x='years_experience', y='salary_usd', size='job_description_length', color='company_size')\n",
    "fig.show()"
   ]
  },
  {
   "cell_type": "code",
   "execution_count": null,
   "id": "6f571594",
   "metadata": {},
   "outputs": [],
   "source": [
    "fig = px.box(df, x='education_required', y='remote_ratio', color='education_required')\n",
    "fig.show()"
   ]
  }
 ],
 "metadata": {},
 "nbformat": 4,
 "nbformat_minor": 5
}
